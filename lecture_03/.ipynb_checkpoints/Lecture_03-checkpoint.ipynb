{
 "cells": [
  {
   "cell_type": "markdown",
   "metadata": {},
   "source": [
    "# Exercise 03.1"
   ]
  },
  {
   "cell_type": "markdown",
   "metadata": {},
   "source": [
    "We want to price an European Option, assuming that the time evolution of the asset price $S(t)$ is described by a Geometric Brownian Motion (GBM) with constant risk-free interest rate $r=0.1$ and volatility $\\sigma=0.25$: $S \\sim GBM(r,\\sigma^2)$."
   ]
  },
  {
   "cell_type": "markdown",
   "metadata": {},
   "source": [
    "For a **call option** the holder has the right to buy the asset from the writer for a prescribed strike price $K$ at the expiry date $T$.\n",
    "We want to help the writer in deciding the compensation he will require from the holder when they stipulates the contract at $t=0$.\n",
    "The profit gained by the holder at expiry is $(S(T)-K)^+ := max[0,S(T)-K]$. The actual value of this profit is obtained by discounting it by a factor $e^{-rT}$ due to the interest that a bank would have guaranteed with a deposit at time $t=0$. We can estimate the call-option price as $\\langle e^{-rT}(S(T)-K)^+ \\rangle$, where the average is taken over many simulations of the time evolution of $S$ with a GBM."
   ]
  },
  {
   "cell_type": "markdown",
   "metadata": {},
   "source": [
    "For a **put option** we use the same logic, but the profit gained by the holder at expiry is $(S(T)-K)^- := max[0,K-S(T)]$. We can estimate the put-option price as $\\langle e^{-rT}(S(T)-K)^- \\rangle$."
   ]
  },
  {
   "cell_type": "markdown",
   "metadata": {},
   "source": [
    "Our simulations use the following parameters:\n",
    "- asset price at $t=0$: $S(0)=100$\n",
    "- delivery time: $T=1$\n",
    "- strike price: $K=100$\n",
    "- risk-free interest rate: $r=0.1$\n",
    "- volatility: $\\sigma=0.25$"
   ]
  },
  {
   "cell_type": "markdown",
   "metadata": {},
   "source": [
    "We perform $10^4$ simulations for both the call option and the put option pricing. In both cases sampling of GBM is done in 2 possible ways:\n",
    "- we sample directly the final asset price: $S(T)=S(0)exp\\big[(r-\\frac{\\sigma^2}{2})T+\\sigma Z \\sqrt{T}\\big]$\n",
    "- we sample a discretized GBM using a certain partion of the interval $[0,T]$: $S(t_i)=S(0)exp\\big[(r-\\frac{\\sigma^2}{2})(t_{i}-t_{i-1})+\\sigma Z_i \\sqrt{t_i-t_{i-1}}\\big]$\n",
    "\n",
    "where $Z$ and $Z_i$ are standard normal random variables.\n",
    "From a theoretical point of view the two approaches must yield the same results, because the GBM transition probability is log-normal."
   ]
  },
  {
   "cell_type": "markdown",
   "metadata": {},
   "source": [
    "This is the Black and Scholes analytic solution to our problem: "
   ]
  },
  {
   "cell_type": "code",
   "execution_count": 4,
   "metadata": {},
   "outputs": [
    {
     "name": "stdout",
     "output_type": "stream",
     "text": [
      " == BLACK-SCHOLES ==\n",
      "call:  14.975790778311286\n",
      "put:  5.4595325819072364\n"
     ]
    }
   ],
   "source": [
    "import scipy\n",
    "from scipy.special import erf\n",
    "from scipy import log, exp, sqrt\n",
    "\n",
    "# data\n",
    "S0 = 100.\n",
    "K = 100.\n",
    "T = 1.\n",
    "r = 0.1\n",
    "sigma = 0.25\n",
    "t=0\n",
    "\n",
    "def N(x):\n",
    "    return 0.5 * (1. + erf(x / sqrt(2.)))\n",
    "\n",
    "def black_scholes(S0, K, T, r, sigma):\n",
    "    d1 = 1./(sigma * sqrt(T)) * (log(S0 / K) + (r + (sigma**2) / 2.) * T)\n",
    "    d2 = d1 - sigma * sqrt(T)\n",
    "    C = S0 * N(d1) - K * exp(-r * T) * N(d2)\n",
    "    P = S0 *(N(d1) - 1.) - K * exp(-r * T) * (N(d2)-1.)\n",
    "    return C, P\n",
    "\n",
    "if __name__ == \"__main__\":\n",
    "    call, put = black_scholes(S0, K, T, r, sigma)\n",
    "    print(\" == BLACK-SCHOLES ==\")\n",
    "    print(\"call: \", call)\n",
    "    print(\"put: \", put)"
   ]
  },
  {
   "cell_type": "markdown",
   "metadata": {},
   "source": [
    "These are the graph obtained from our simulations, compared with the expected values."
   ]
  },
  {
   "cell_type": "code",
   "execution_count": 7,
   "metadata": {},
   "outputs": [
    {
     "data": {
      "image/png": "[encoded data removed]",
      "text/plain": [
       "<Figure size 432x288 with 2 Axes>"
      ]
     },
     "metadata": {},
     "output_type": "display_data"
    }
   ],
   "source": [
    "import matplotlib\n",
    "import matplotlib.pyplot as plt\n",
    "import numpy as np\n",
    "\n",
    "x1, y1, error1 = np.loadtxt(\"Ex_03.1/Call_1step.txt\", usecols=(0,1,2), delimiter='\\t', unpack='true')\n",
    "x2, y2, error2 = np.loadtxt(\"Ex_03.1/Call_100step.txt\", usecols=(0,1,2), delimiter='\\t', unpack='true')\n",
    "\n",
    "\n",
    "f, axarr = plt.subplots(1,2,sharey=True)\n",
    "\n",
    "axarr[0].errorbar(x1,y1,yerr=error1)\n",
    "axarr[0].set_title('1 step')\n",
    "axarr[0].plot([1,50,100], [call, call, call])\n",
    "axarr[0].set(xlabel='Number of blocks')\n",
    "axarr[0].set(ylabel='C[S(0),0]')\n",
    "\n",
    "axarr[1].errorbar(x2,y2,yerr=error2)\n",
    "axarr[1].plot([1,50,100], [call, call, call])\n",
    "axarr[1].set_title('100 step')\n",
    "axarr[1].set(xlabel='Number of blocks')\n",
    "\n",
    "plt.show()"
   ]
  },
  {
   "cell_type": "code",
   "execution_count": 8,
   "metadata": {},
   "outputs": [
    {
     "data": {
      "image/png": "[encoded data removed]",
      "text/plain": [
       "<Figure size 432x288 with 2 Axes>"
      ]
     },
     "metadata": {},
     "output_type": "display_data"
    }
   ],
   "source": [
    "x1, y1, error1 = np.loadtxt(\"Ex_03.1/Put_1step.txt\", usecols=(0,1,2), delimiter='\\t', unpack='true')\n",
    "x2, y2, error2 = np.loadtxt(\"Ex_03.1/Put_100step.txt\", usecols=(0,1,2), delimiter='\\t', unpack='true')\n",
    "\n",
    "\n",
    "f, axarr = plt.subplots(1,2,sharey=True)\n",
    "\n",
    "axarr[0].errorbar(x1,y1,yerr=error1)\n",
    "axarr[0].set_title('1 step')\n",
    "axarr[0].plot([1,50,100], [put, put, put])\n",
    "axarr[0].set(xlabel='Number of blocks')\n",
    "axarr[0].set(ylabel='P[S(0),0]')\n",
    "\n",
    "axarr[1].errorbar(x2,y2,yerr=error2)\n",
    "axarr[1].plot([1,50,100], [put, put, put])\n",
    "axarr[1].set_title('100 step')\n",
    "axarr[1].set(xlabel='Number of blocks')\n",
    "\n",
    "plt.show()\n"
   ]
  },
  {
   "cell_type": "code",
   "execution_count": null,
   "metadata": {},
   "outputs": [],
   "source": []
  }
 ],
 "metadata": {
  "kernelspec": {
   "display_name": "Python 3",
   "language": "python",
   "name": "python3"
  },
  "language_info": {
   "codemirror_mode": {
    "name": "ipython",
    "version": 3
   },
   "file_extension": ".py",
   "mimetype": "text/x-python",
   "name": "python",
   "nbconvert_exporter": "python",
   "pygments_lexer": "ipython3",
   "version": "3.6.7"
  }
 },
 "nbformat": 4,
 "nbformat_minor": 2
}
