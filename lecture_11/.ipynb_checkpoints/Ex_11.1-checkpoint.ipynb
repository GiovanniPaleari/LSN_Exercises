{
 "cells": [
  {
   "cell_type": "markdown",
   "metadata": {},
   "source": [
    "### Linear fit\n",
    "\n",
    "$$\n",
    "f(x)=2x+1\n",
    "$$\n",
    "\n",
    "Ecco i parametri che definiscono la retta:"
   ]
  },
  {
   "cell_type": "code",
   "execution_count": 123,
   "metadata": {},
   "outputs": [],
   "source": [
    "# target parameters of f(x) = m*x + b\n",
    "m = 2 # slope\n",
    "b = 1 # intersect"
   ]
  },
  {
   "cell_type": "markdown",
   "metadata": {},
   "source": [
    "Ecco i parametri che possiamo variare per migliorare il funzionamento della rete:"
   ]
  },
  {
   "cell_type": "code",
   "execution_count": 124,
   "metadata": {},
   "outputs": [],
   "source": [
    "n_train = 1000\n",
    "sigma = 0.8 # noise standard deviation\n",
    "n_epochs = 30"
   ]
  },
  {
   "cell_type": "markdown",
   "metadata": {},
   "source": [
    "Generiamo i punti nel piano cartesiano che costituiranno il **training set** e il **validation set**."
   ]
  },
  {
   "cell_type": "code",
   "execution_count": 125,
   "metadata": {},
   "outputs": [],
   "source": [
    "import numpy as np\n",
    "\n",
    "n_valid = int(n_train/10)   # tipically the majority of the data is partitioned into the training set.\n",
    "\n",
    "# generate training inputs\n",
    "np.random.seed(0)\n",
    "x_train = np.random.uniform(-1, 1, n_train)\n",
    "x_valid = np.random.uniform(-1, 1, n_valid)\n",
    "x_valid.sort()\n",
    "y_target = m * x_valid + b # ideal (target) linear function\n",
    "\n",
    "y_train = np.random.normal(m * x_train + b, sigma) \n",
    "y_valid = np.random.normal(m * x_valid + b, sigma)"
   ]
  },
  {
   "cell_type": "markdown",
   "metadata": {},
   "source": [
    "Grafici del training set e del validation set rispetto alla retta che stiamo considerando."
   ]
  },
  {
   "cell_type": "code",
   "execution_count": 126,
   "metadata": {},
   "outputs": [
    {
     "data": {
      "image/png": "[encoded data removed]",
      "text/plain": [
       "<Figure size 432x288 with 2 Axes>"
      ]
     },
     "metadata": {},
     "output_type": "display_data"
    }
   ],
   "source": [
    "import matplotlib.pyplot as plt\n",
    "\n",
    "f, axarr = plt.subplots(1,2)\n",
    "\n",
    "axarr[0].plot(x_valid, y_target)\n",
    "axarr[0].scatter(x_train, y_train, color='r')\n",
    "axarr[0].grid(True); \n",
    "axarr[0].set_title('Training set')\n",
    "\n",
    "axarr[1].plot(x_valid, y_target)\n",
    "axarr[1].scatter(x_valid, y_valid, color='r')\n",
    "axarr[1].grid(True); \n",
    "axarr[1].set_title('Validation set')\n",
    "\n",
    "plt.show()"
   ]
  },
  {
   "cell_type": "markdown",
   "metadata": {},
   "source": [
    "Creiamo una rete molto semplice con un hidden layer composto da un solo neurone. Nel caso seguente non viene utilizzata alcuna attivazione. "
   ]
  },
  {
   "cell_type": "code",
   "execution_count": 127,
   "metadata": {},
   "outputs": [],
   "source": [
    "# compose the NN model\n",
    "import tensorflow as tf\n",
    "from tensorflow import keras\n",
    "\n",
    "from tensorflow.keras.models import Sequential\n",
    "from tensorflow.keras.layers import Dense, Activation\n",
    "from tensorflow.keras import backend as K\n",
    "from tensorflow.keras.utils import get_custom_objects\n",
    "\n",
    "model = tf.keras.Sequential()\n",
    "model.add(Dense(1, input_shape=(1,)))\n",
    "\n",
    "# compile the model choosing optimizer, loss and metrics objects\n",
    "model.compile(optimizer='sgd', loss='mse', metrics=['mse'])"
   ]
  },
  {
   "cell_type": "code",
   "execution_count": 128,
   "metadata": {},
   "outputs": [
    {
     "name": "stdout",
     "output_type": "stream",
     "text": [
      "Model: \"sequential_11\"\n",
      "_________________________________________________________________\n",
      "Layer (type)                 Output Shape              Param #   \n",
      "=================================================================\n",
      "dense_11 (Dense)             (None, 1)                 2         \n",
      "=================================================================\n",
      "Total params: 2\n",
      "Trainable params: 2\n",
      "Non-trainable params: 0\n",
      "_________________________________________________________________\n"
     ]
    }
   ],
   "source": [
    "# get a summary of our composed model\n",
    "model.summary()"
   ]
  },
  {
   "cell_type": "markdown",
   "metadata": {},
   "source": [
    "Alleniamo la rete fornendole x_train e y_train. Utilizzando lo Stocastic Gradient Descent la rete troverà i pesi che minimizzano la loss function (MSE)."
   ]
  },
  {
   "cell_type": "code",
   "execution_count": 129,
   "metadata": {},
   "outputs": [
    {
     "name": "stdout",
     "output_type": "stream",
     "text": [
      "Train on 1000 samples, validate on 100 samples\n",
      "Epoch 1/30\n",
      "1000/1000 [==============================] - 0s 143us/sample - loss: 2.3102 - mean_squared_error: 2.3102 - val_loss: 1.9946 - val_mean_squared_error: 1.9946\n",
      "Epoch 2/30\n",
      "1000/1000 [==============================] - 0s 30us/sample - loss: 1.5001 - mean_squared_error: 1.5001 - val_loss: 1.4260 - val_mean_squared_error: 1.4260\n",
      "Epoch 3/30\n",
      "1000/1000 [==============================] - 0s 29us/sample - loss: 1.1319 - mean_squared_error: 1.1319 - val_loss: 1.1203 - val_mean_squared_error: 1.1203\n",
      "Epoch 4/30\n",
      "1000/1000 [==============================] - 0s 34us/sample - loss: 0.9359 - mean_squared_error: 0.9359 - val_loss: 0.9279 - val_mean_squared_error: 0.9279\n",
      "Epoch 5/30\n",
      "1000/1000 [==============================] - 0s 29us/sample - loss: 0.8162 - mean_squared_error: 0.8162 - val_loss: 0.8054 - val_mean_squared_error: 0.8054\n",
      "Epoch 6/30\n",
      "1000/1000 [==============================] - 0s 27us/sample - loss: 0.7432 - mean_squared_error: 0.7432 - val_loss: 0.7157 - val_mean_squared_error: 0.7157\n",
      "Epoch 7/30\n",
      "1000/1000 [==============================] - 0s 29us/sample - loss: 0.6922 - mean_squared_error: 0.6922 - val_loss: 0.6604 - val_mean_squared_error: 0.6604\n",
      "Epoch 8/30\n",
      "1000/1000 [==============================] - 0s 33us/sample - loss: 0.6623 - mean_squared_error: 0.6623 - val_loss: 0.6222 - val_mean_squared_error: 0.6222\n",
      "Epoch 9/30\n",
      "1000/1000 [==============================] - 0s 32us/sample - loss: 0.6430 - mean_squared_error: 0.6430 - val_loss: 0.5967 - val_mean_squared_error: 0.5967\n",
      "Epoch 10/30\n",
      "1000/1000 [==============================] - 0s 31us/sample - loss: 0.6310 - mean_squared_error: 0.6310 - val_loss: 0.5777 - val_mean_squared_error: 0.5777\n",
      "Epoch 11/30\n",
      "1000/1000 [==============================] - 0s 33us/sample - loss: 0.6227 - mean_squared_error: 0.6227 - val_loss: 0.5633 - val_mean_squared_error: 0.5633\n",
      "Epoch 12/30\n",
      "1000/1000 [==============================] - 0s 36us/sample - loss: 0.6167 - mean_squared_error: 0.6167 - val_loss: 0.5537 - val_mean_squared_error: 0.5537\n",
      "Epoch 13/30\n",
      "1000/1000 [==============================] - 0s 32us/sample - loss: 0.6133 - mean_squared_error: 0.6133 - val_loss: 0.5465 - val_mean_squared_error: 0.5465\n",
      "Epoch 14/30\n",
      "1000/1000 [==============================] - 0s 31us/sample - loss: 0.6110 - mean_squared_error: 0.6110 - val_loss: 0.5413 - val_mean_squared_error: 0.5413\n",
      "Epoch 15/30\n",
      "1000/1000 [==============================] - 0s 28us/sample - loss: 0.6097 - mean_squared_error: 0.6097 - val_loss: 0.5363 - val_mean_squared_error: 0.5363\n",
      "Epoch 16/30\n",
      "1000/1000 [==============================] - 0s 31us/sample - loss: 0.6085 - mean_squared_error: 0.6085 - val_loss: 0.5336 - val_mean_squared_error: 0.5336\n",
      "Epoch 17/30\n",
      "1000/1000 [==============================] - 0s 29us/sample - loss: 0.6077 - mean_squared_error: 0.6077 - val_loss: 0.5317 - val_mean_squared_error: 0.5317\n",
      "Epoch 18/30\n",
      "1000/1000 [==============================] - 0s 32us/sample - loss: 0.6073 - mean_squared_error: 0.6073 - val_loss: 0.5302 - val_mean_squared_error: 0.5302\n",
      "Epoch 19/30\n",
      "1000/1000 [==============================] - 0s 29us/sample - loss: 0.6072 - mean_squared_error: 0.6072 - val_loss: 0.5293 - val_mean_squared_error: 0.5293\n",
      "Epoch 20/30\n",
      "1000/1000 [==============================] - 0s 30us/sample - loss: 0.6072 - mean_squared_error: 0.6072 - val_loss: 0.5285 - val_mean_squared_error: 0.5285\n",
      "Epoch 21/30\n",
      "1000/1000 [==============================] - 0s 31us/sample - loss: 0.6070 - mean_squared_error: 0.6070 - val_loss: 0.5279 - val_mean_squared_error: 0.5279\n",
      "Epoch 22/30\n",
      "1000/1000 [==============================] - 0s 29us/sample - loss: 0.6071 - mean_squared_error: 0.6071 - val_loss: 0.5268 - val_mean_squared_error: 0.5268\n",
      "Epoch 23/30\n",
      "1000/1000 [==============================] - 0s 31us/sample - loss: 0.6069 - mean_squared_error: 0.6069 - val_loss: 0.5268 - val_mean_squared_error: 0.5268\n",
      "Epoch 24/30\n",
      "1000/1000 [==============================] - 0s 33us/sample - loss: 0.6069 - mean_squared_error: 0.6069 - val_loss: 0.5264 - val_mean_squared_error: 0.5264\n",
      "Epoch 25/30\n",
      "1000/1000 [==============================] - 0s 32us/sample - loss: 0.6069 - mean_squared_error: 0.6069 - val_loss: 0.5263 - val_mean_squared_error: 0.5263\n",
      "Epoch 26/30\n",
      "1000/1000 [==============================] - 0s 32us/sample - loss: 0.6070 - mean_squared_error: 0.6070 - val_loss: 0.5260 - val_mean_squared_error: 0.5260\n",
      "Epoch 27/30\n",
      "1000/1000 [==============================] - 0s 37us/sample - loss: 0.6070 - mean_squared_error: 0.6070 - val_loss: 0.5265 - val_mean_squared_error: 0.5265\n",
      "Epoch 28/30\n",
      "1000/1000 [==============================] - 0s 30us/sample - loss: 0.6071 - mean_squared_error: 0.6071 - val_loss: 0.5265 - val_mean_squared_error: 0.5265\n",
      "Epoch 29/30\n",
      "1000/1000 [==============================] - 0s 27us/sample - loss: 0.6071 - mean_squared_error: 0.6071 - val_loss: 0.5257 - val_mean_squared_error: 0.5257\n",
      "Epoch 30/30\n",
      "1000/1000 [==============================] - 0s 28us/sample - loss: 0.6069 - mean_squared_error: 0.6069 - val_loss: 0.5260 - val_mean_squared_error: 0.5260\n"
     ]
    }
   ],
   "source": [
    "history = model.fit(x=x_train, y=y_train, \n",
    "          batch_size=32, epochs=n_epochs,\n",
    "          shuffle=True, # a good idea is to shuffle input before at each epoch\n",
    "          validation_data=(x_valid, y_valid))"
   ]
  },
  {
   "cell_type": "code",
   "execution_count": 130,
   "metadata": {},
   "outputs": [
    {
     "data": {
      "text/plain": [
       "[array([[2.0008667]], dtype=float32), array([1.0151917], dtype=float32)]"
      ]
     },
     "execution_count": 130,
     "metadata": {},
     "output_type": "execute_result"
    }
   ],
   "source": [
    "model.get_weights()"
   ]
  },
  {
   "cell_type": "code",
   "execution_count": 131,
   "metadata": {},
   "outputs": [
    {
     "name": "stdout",
     "output_type": "stream",
     "text": [
      "100/100 [==============================] - 0s 29us/sample - loss: 0.5260 - mean_squared_error: 0.5260\n",
      "\n",
      "Test loss: 0.5259963607788086\n",
      "Test accuracy: 0.5259964\n"
     ]
    }
   ],
   "source": [
    "# evaluate model\n",
    "score = model.evaluate(x_valid, y_valid, batch_size=32, verbose=1)\n",
    "\n",
    "# print performance\n",
    "print()\n",
    "print('Test loss:', score[0])\n",
    "print('Test accuracy:', score[1])"
   ]
  },
  {
   "cell_type": "code",
   "execution_count": 132,
   "metadata": {},
   "outputs": [
    {
     "data": {
      "image/png": "[encoded data removed]",
      "text/plain": [
       "<Figure size 432x288 with 1 Axes>"
      ]
     },
     "metadata": {},
     "output_type": "display_data"
    }
   ],
   "source": [
    "# look into training history\n",
    "# Plot training & validation loss values\n",
    "plt.plot(history.history['loss'])\n",
    "plt.plot(history.history['val_loss'])\n",
    "plt.title('Model loss')\n",
    "plt.ylabel('Loss')\n",
    "plt.xlabel('Epoch')\n",
    "plt.legend(['Train', 'Test'], loc='best')\n",
    "plt.show()"
   ]
  },
  {
   "cell_type": "code",
   "execution_count": 133,
   "metadata": {},
   "outputs": [
    {
     "data": {
      "image/png": "[encoded data removed]",
      "text/plain": [
       "<Figure size 432x288 with 1 Axes>"
      ]
     },
     "metadata": {},
     "output_type": "display_data"
    }
   ],
   "source": [
    "x_predicted = np.random.uniform(-1, 1, 100)\n",
    "y_predicted = model.predict(x_predicted)\n",
    "plt.scatter(x_predicted, y_predicted,color='r')\n",
    "plt.plot(x_valid, y_target)\n",
    "plt.grid(True)\n",
    "plt.show()"
   ]
  },
  {
   "cell_type": "markdown",
   "metadata": {},
   "source": [
    "Variando i parametri n_train, n_epochs e sigma è evidente come **il parametro determinante per la convergenza della regressione sia <b><font color='red'>n_train</font></b>**. Il rumore può essere anche molto alto ma se il train set è sufficientemente grande la rete riconosce la retta corretta. Al contrario se il train set è poco numeroso possiamo utilizzare un elevato numero di epoche e un rumore bassissimo, senza raggiungere comunque la convergenza."
   ]
  },
  {
   "cell_type": "code",
   "execution_count": null,
   "metadata": {},
   "outputs": [],
   "source": []
  }
 ],
 "metadata": {
  "kernelspec": {
   "display_name": "Python 3",
   "language": "python",
   "name": "python3"
  },
  "language_info": {
   "codemirror_mode": {
    "name": "ipython",
    "version": 3
   },
   "file_extension": ".py",
   "mimetype": "text/x-python",
   "name": "python",
   "nbconvert_exporter": "python",
   "pygments_lexer": "ipython3",
   "version": "3.6.7"
  }
 },
 "nbformat": 4,
 "nbformat_minor": 2
}
